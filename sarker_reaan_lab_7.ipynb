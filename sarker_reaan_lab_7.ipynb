{
 "cells": [
  {
   "cell_type": "code",
   "execution_count": 1,
   "metadata": {},
   "outputs": [
    {
     "name": "stdout",
     "output_type": "stream",
     "text": [
      "$5 shipping charge\n"
     ]
    }
   ],
   "source": [
    "print(\"$5 shipping charge\")"
   ]
  },
  {
   "cell_type": "code",
   "execution_count": 3,
   "metadata": {},
   "outputs": [
    {
     "name": "stdout",
     "output_type": "stream",
     "text": [
      "You've purchased pants\n",
      "You have placed your order. There will be a $5 shipping charge.\n"
     ]
    }
   ],
   "source": [
    "item = \"pants\"\n",
    "def order():\n",
    "    print(\"You've purchased \" + item)\n",
    "    print(\"You have placed your order. There will be a $5 shipping charge.\")\n",
    "\n",
    "order()"
   ]
  },
  {
   "cell_type": "code",
   "execution_count": 4,
   "metadata": {},
   "outputs": [
    {
     "name": "stdout",
     "output_type": "stream",
     "text": [
      "Hello\n",
      "Hola\n",
      "Ciao\n",
      "Bonjour\n",
      "Guttentag\n"
     ]
    }
   ],
   "source": [
    "def greetings():\n",
    "    print(\"Hello\")\n",
    "    print(\"Hola\")\n",
    "    print(\"Ciao\")\n",
    "    print(\"Bonjour\")\n",
    "    print(\"Guttentag\")\n",
    "greetings()"
   ]
  },
  {
   "cell_type": "code",
   "execution_count": 5,
   "metadata": {},
   "outputs": [
    {
     "name": "stdout",
     "output_type": "stream",
     "text": [
      "high\n"
     ]
    }
   ],
   "source": [
    "number = 15\n",
    "def high_or_low():\n",
    "    if(number > 10):\n",
    "        print(\"high\")\n",
    "    else:\n",
    "        print(\"low\")\n",
    "high_or_low()"
   ]
  },
  {
   "cell_type": "code",
   "execution_count": 7,
   "metadata": {},
   "outputs": [
    {
     "name": "stdout",
     "output_type": "stream",
     "text": [
      "1 ft = 12 in\n",
      "2 ft = 24 in\n",
      "3 ft = 36 in\n"
     ]
    }
   ],
   "source": [
    "def feet_inches(ft):\n",
    "    inches = ft * 12\n",
    "    print(ft, \"ft =\", inches, \"in\")\n",
    "\n",
    "feet_inches(1)\n",
    "feet_inches(2)\n",
    "feet_inches(3)"
   ]
  },
  {
   "cell_type": "code",
   "execution_count": 8,
   "metadata": {},
   "outputs": [
    {
     "name": "stdout",
     "output_type": "stream",
     "text": [
      "20% off!\n",
      "This item was $8 and is now $6.4!\n",
      "This item was $25 and is now $20.0!\n",
      "This item was $15 and is now $12.0!\n"
     ]
    }
   ],
   "source": [
    "shirt_price = 8\n",
    "jeans_price = 25\n",
    "hoodie = 15\n",
    "\n",
    "print(\"20% off!\")\n",
    "\n",
    "def percent_off(item):\n",
    "    discount_price = item * .8\n",
    "    print(\"This item was $\" + str(item) + \" and is now $\" + str(discount_price) + \"!\")\n",
    "    \n",
    "percent_off(shirt_price)\n",
    "percent_off(jeans_price)\n",
    "percent_off(hoodie)"
   ]
  },
  {
   "cell_type": "code",
   "execution_count": 9,
   "metadata": {},
   "outputs": [
    {
     "name": "stdout",
     "output_type": "stream",
     "text": [
      "Thank you!\n",
      "I don't want it\n"
     ]
    }
   ],
   "source": [
    "product = \"shoes\"\n",
    "order_amount = 2\n",
    "\n",
    "def product_order(product, order_amount):\n",
    "    print(\"Thank you!\")\n",
    "    if order_amount >=20:\n",
    "        print(\"I want it\")\n",
    "    else:\n",
    "        print(\"I don't want it\")\n",
    "product_order(product, order_amount)"
   ]
  },
  {
   "cell_type": "code",
   "execution_count": 10,
   "metadata": {},
   "outputs": [
    {
     "name": "stdout",
     "output_type": "stream",
     "text": [
      "10\n",
      "7\n",
      "30\n"
     ]
    }
   ],
   "source": [
    "def add(x,y):\n",
    "    answer = x+ y\n",
    "    print(answer)\n",
    "    \n",
    "def sub(x,y):\n",
    "    answer = x - y\n",
    "    print(answer)\n",
    "    \n",
    "def mult(x,y):\n",
    "    answer = x * y\n",
    "    print(answer)\n",
    "    \n",
    "add(5,5)\n",
    "sub(10,3)\n",
    "mult(5,6)"
   ]
  },
  {
   "cell_type": "code",
   "execution_count": 1,
   "metadata": {},
   "outputs": [],
   "source": [
    "#post lab ex"
   ]
  },
  {
   "cell_type": "code",
   "execution_count": 3,
   "metadata": {},
   "outputs": [
    {
     "name": "stdout",
     "output_type": "stream",
     "text": [
      "7\n"
     ]
    }
   ],
   "source": [
    "#1\n",
    "def max_of_three(x, y, z):\n",
    "    max_number = max(x,y,z)\n",
    "    print(max_number)\n",
    "    \n",
    "max_of_three(5, 6, 7)"
   ]
  },
  {
   "cell_type": "code",
   "execution_count": 5,
   "metadata": {},
   "outputs": [
    {
     "name": "stdout",
     "output_type": "stream",
     "text": [
      "The solution are (-3+0j) and (-2+0j)\n"
     ]
    }
   ],
   "source": [
    "#2\n",
    "\n",
    "import cmath\n",
    "\n",
    "a = 1\n",
    "b = 5\n",
    "c = 6\n",
    "\n",
    "d = (b**2) - (4*a*c)\n",
    "(-b +- (b ** 2 - 4 * a * c) ** 0.5) / 2 * a\n",
    "\n",
    "sol1 = (-b-cmath.sqrt(d))/(2*a)\n",
    "sol2 = (-b+cmath.sqrt(d))/(2*a)\n",
    "\n",
    "print('The solution are {0} and {1}'.format(sol1,sol2))"
   ]
  },
  {
   "cell_type": "code",
   "execution_count": 7,
   "metadata": {},
   "outputs": [
    {
     "name": "stdout",
     "output_type": "stream",
     "text": [
      "The number is outside the given range.\n"
     ]
    }
   ],
   "source": [
    "#3\n",
    "def test_range(n):\n",
    "    if n in range(5,15):\n",
    "        print( \" %s is in the range\"%str(n))\n",
    "    else :\n",
    "        print(\"The number is outside the given range.\")\n",
    "test_range(3)"
   ]
  },
  {
   "cell_type": "code",
   "execution_count": 11,
   "metadata": {},
   "outputs": [
    {
     "ename": "SyntaxError",
     "evalue": "invalid syntax (<ipython-input-11-dcead2ea84d7>, line 2)",
     "output_type": "error",
     "traceback": [
      "\u001b[0;36m  File \u001b[0;32m\"<ipython-input-11-dcead2ea84d7>\"\u001b[0;36m, line \u001b[0;32m2\u001b[0m\n\u001b[0;31m    int main()\u001b[0m\n\u001b[0m        ^\u001b[0m\n\u001b[0;31mSyntaxError\u001b[0m\u001b[0;31m:\u001b[0m invalid syntax\n"
     ]
    }
   ],
   "source": [
    "#4\n",
    "int main()\n",
    "{\n",
    "    int n = 13;\n",
    "    if (n == 1) {\n",
    "        printf(\"%d is not a prime number\", n);\n",
    "    }\n",
    "    else {\n",
    "        int f = 0;\n",
    "        for (int i = 2; i <= (n / 2); i++) {\n",
    "           \n",
    "            if (n % 2 == 0) {\n",
    "                f = 1;\n",
    "    \n",
    "                break;\n",
    "            }\n",
    "        }\n",
    "        if (f == 1) {\n",
    "            printf(\"%d is not a prime number\", n);\n",
    "        }\n",
    "        else {\n",
    "            printf(\"%d is a prime number\", n);\n",
    "        }\n",
    "    }\n",
    "    return 0;\n",
    "}"
   ]
  },
  {
   "cell_type": "code",
   "execution_count": null,
   "metadata": {},
   "outputs": [],
   "source": [
    "#5\n",
    "name = input(\"What's your name? : \")\n",
    "nickname = input(\"What's your nickname? : \")\n",
    "print (\"Hello  \" + name + \", or \" + nickname)"
   ]
  },
  {
   "cell_type": "code",
   "execution_count": null,
   "metadata": {},
   "outputs": [],
   "source": []
  }
 ],
 "metadata": {
  "kernelspec": {
   "display_name": "Python 3",
   "language": "python",
   "name": "python3"
  },
  "language_info": {
   "codemirror_mode": {
    "name": "ipython",
    "version": 3
   },
   "file_extension": ".py",
   "mimetype": "text/x-python",
   "name": "python",
   "nbconvert_exporter": "python",
   "pygments_lexer": "ipython3",
   "version": "3.8.5"
  }
 },
 "nbformat": 4,
 "nbformat_minor": 4
}

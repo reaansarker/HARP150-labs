{
 "cells": [
  {
   "cell_type": "code",
   "execution_count": 1,
   "metadata": {},
   "outputs": [
    {
     "name": "stdout",
     "output_type": "stream",
     "text": [
      "a\n"
     ]
    }
   ],
   "source": [
    "list = [\"this\", \"is\", \"a\", \"list\"]\n",
    "print(list[2])"
   ]
  },
  {
   "cell_type": "code",
   "execution_count": 23,
   "metadata": {},
   "outputs": [
    {
     "ename": "TypeError",
     "evalue": "'set' object is not subscriptable",
     "output_type": "error",
     "traceback": [
      "\u001b[0;31m---------------------------------------------------------------------------\u001b[0m",
      "\u001b[0;31mTypeError\u001b[0m                                 Traceback (most recent call last)",
      "\u001b[0;32m<ipython-input-23-2f291e5aa94d>\u001b[0m in \u001b[0;36m<module>\u001b[0;34m\u001b[0m\n\u001b[1;32m      1\u001b[0m \u001b[0mname_of_dictionary\u001b[0m \u001b[0;34m=\u001b[0m \u001b[0;34m{\u001b[0m\u001b[0;34m\"key1\"\u001b[0m\u001b[0;34m,\u001b[0m \u001b[0;34m\"value1\"\u001b[0m\u001b[0;34m,\u001b[0m \u001b[0;34m\"key2\"\u001b[0m\u001b[0;34m,\u001b[0m \u001b[0;34m\"value2\"\u001b[0m\u001b[0;34m,\u001b[0m \u001b[0;34m\"key3\"\u001b[0m\u001b[0;34m,\u001b[0m \u001b[0;34m\"value3\"\u001b[0m\u001b[0;34m}\u001b[0m\u001b[0;34m\u001b[0m\u001b[0;34m\u001b[0m\u001b[0m\n\u001b[1;32m      2\u001b[0m \u001b[0;34m\u001b[0m\u001b[0m\n\u001b[0;32m----> 3\u001b[0;31m \u001b[0mprint\u001b[0m\u001b[0;34m(\u001b[0m\u001b[0mname_of_dictionary\u001b[0m\u001b[0;34m[\u001b[0m\u001b[0;34m\"key2\"\u001b[0m\u001b[0;34m]\u001b[0m\u001b[0;34m)\u001b[0m\u001b[0;34m\u001b[0m\u001b[0;34m\u001b[0m\u001b[0m\n\u001b[0m",
      "\u001b[0;31mTypeError\u001b[0m: 'set' object is not subscriptable"
     ]
    }
   ],
   "source": [
    "name_of_dictionary = {\"key1\", \"value1\", \"key2\", \"value2\", \"key3\", \"value3\"}\n",
    "\n",
    "print(name_of_dictionary[\"key2\"])"
   ]
  },
  {
   "cell_type": "code",
   "execution_count": 8,
   "metadata": {},
   "outputs": [
    {
     "name": "stdout",
     "output_type": "stream",
     "text": [
      "talk to you later\n",
      "throw back thursday\n",
      "laugh out loud\n"
     ]
    }
   ],
   "source": [
    "abbreviations = {\"ttyl\": \"talk to you later\", \"tbt\": \"throw back thursday\", \"lol\": \"laugh out loud\"}\n",
    "\n",
    "print(abbreviations[\"ttyl\"])\n",
    "print(abbreviations[\"tbt\"])\n",
    "print(abbreviations[\"lol\"])"
   ]
  },
  {
   "cell_type": "code",
   "execution_count": 12,
   "metadata": {},
   "outputs": [
    {
     "name": "stdout",
     "output_type": "stream",
     "text": [
      "lollipops of lalaland\n"
     ]
    }
   ],
   "source": [
    "abbreviations[\"lol\"] = \"lollipops of lalaland\"\n",
    "print(abbreviations[\"lol\"])"
   ]
  },
  {
   "cell_type": "code",
   "execution_count": 13,
   "metadata": {},
   "outputs": [
    {
     "name": "stdout",
     "output_type": "stream",
     "text": [
      "flashback friday\n"
     ]
    }
   ],
   "source": [
    "abbreviations[\"fbf\"] = \"flashback friday\"\n",
    "print(abbreviations[\"fbf\"])"
   ]
  },
  {
   "cell_type": "code",
   "execution_count": 16,
   "metadata": {},
   "outputs": [
    {
     "name": "stdout",
     "output_type": "stream",
     "text": [
      "chocolate chip\n",
      "watermelon\n",
      "the hunger hames\n",
      "best cookie : chocolate chip\n",
      "best fruit : watermelon\n",
      "best movie : the hunger hames\n"
     ]
    }
   ],
   "source": [
    "my_dictionary = {\n",
    "  \"best cookie\": \"chocolate chip\",\n",
    "  \"best fruit\": \"watermelon\",\n",
    "  \"best movie\": \"the hunger hames\"\n",
    "}\n",
    "\n",
    "for key in my_dictionary:\n",
    "  print(my_dictionary[key])\n",
    "\n",
    "for key in my_dictionary:\n",
    "  print(key, \":\", my_dictionary[key])"
   ]
  },
  {
   "cell_type": "code",
   "execution_count": 15,
   "metadata": {},
   "outputs": [
    {
     "name": "stdout",
     "output_type": "stream",
     "text": [
      "true false consitional\n",
      "user defined objects\n"
     ]
    }
   ],
   "source": [
    "python_terms = {\n",
    "    \"boolean\": \"true false consitional\",\n",
    "    \"class\": \"user defined objects\"\n",
    "}\n",
    "\n",
    "print(python_terms[\"boolean\"])\n",
    "print(python_terms[\"class\"])"
   ]
  },
  {
   "cell_type": "code",
   "execution_count": 17,
   "metadata": {},
   "outputs": [
    {
     "name": "stdout",
     "output_type": "stream",
     "text": [
      "orange\n",
      "tiger\n",
      "bearcat\n",
      "seawolf\n",
      "syracuse university : orange\n",
      "clemson university : tiger\n",
      "binghamton university : bearcat\n",
      "stony brook university : seawolf\n"
     ]
    }
   ],
   "source": [
    "mascots = {\n",
    "    \"syracuse university\": \"orange\",\n",
    "    \"clemson university\": \"tiger\",\n",
    "    \"binghamton university\": \"bearcat\",\n",
    "    \"stony brook university\": \"seawolf\"\n",
    "}\n",
    "\n",
    "for key in mascots:\n",
    "    print(mascots[key])\n",
    "    \n",
    "for key in mascots:\n",
    "    print(key, \":\", mascots[key])"
   ]
  },
  {
   "cell_type": "code",
   "execution_count": 19,
   "metadata": {},
   "outputs": [
    {
     "name": "stdout",
     "output_type": "stream",
     "text": [
      "new girl : never watched\n",
      "grey's anatomy : too long to watch\n",
      "walking dead : also too long to watch\n",
      "criminal minds : love\n"
     ]
    }
   ],
   "source": [
    "bingewatch = {\n",
    "    \"new girl\" : \"never watched\",\n",
    "    \"grey's anatomy\" : \"too long to watch\",\n",
    "    \"walking dead\" : \"also too long to watch\",\n",
    "    \"criminal minds\" : \"love\"\n",
    "}\n",
    "for key in bingewatch:\n",
    "    print(key, \":\", bingewatch[key])"
   ]
  },
  {
   "cell_type": "code",
   "execution_count": 20,
   "metadata": {},
   "outputs": [],
   "source": [
    "#post lab ex:"
   ]
  },
  {
   "cell_type": "code",
   "execution_count": 24,
   "metadata": {},
   "outputs": [
    {
     "name": "stdout",
     "output_type": "stream",
     "text": [
      "richard\n",
      "elzabeth\n",
      "penelope\n",
      "dick : richard\n",
      "libby : elzabeth\n",
      "lola : penelope\n",
      "william\n"
     ]
    }
   ],
   "source": [
    "nicknames = {\n",
    "  \"dick\": \"richard\",\n",
    "  \"libby\": \"elzabeth\",\n",
    "  \"lola\": \"penelope\",\n",
    "}\n",
    "\n",
    "for key in nicknames:\n",
    "  print(nicknames[key])\n",
    "\n",
    "for key in nicknames:\n",
    "  print(key, \":\", nicknames[key])\n",
    "\n",
    "nicknames[\"will\"] = \"william\"\n",
    "print(nicknames[\"will\"])"
   ]
  },
  {
   "cell_type": "code",
   "execution_count": 25,
   "metadata": {},
   "outputs": [
    {
     "name": "stdout",
     "output_type": "stream",
     "text": [
      "italy : $1500\n",
      "france : $1400\n",
      "spain : $6300\n"
     ]
    }
   ],
   "source": [
    "places = {\n",
    "  \"italy\": \"$1500\",\n",
    "  \"france\": \"$1400\",\n",
    "  \"spain\": \"$6300\",\n",
    "}\n",
    "\n",
    "for key in places:\n",
    "  print(key, \":\", places[key])"
   ]
  },
  {
   "cell_type": "code",
   "execution_count": 26,
   "metadata": {},
   "outputs": [
    {
     "name": "stdout",
     "output_type": "stream",
     "text": [
      "7000\n"
     ]
    }
   ],
   "source": [
    "sampleDict = {\n",
    "\n",
    "'emp1': {'name': 'Hannah', 'salary': 7500},\n",
    "'emp2': {'name': 'Demi', 'salary': 6250},\n",
    "'emp3': {'name': 'Selena', 'salary': 6500},\n",
    "}\n",
    "\n",
    "sampleDict[\"Selena\"] = 7000\n",
    "print(sampleDict[\"Selena\"])"
   ]
  },
  {
   "cell_type": "code",
   "execution_count": null,
   "metadata": {},
   "outputs": [],
   "source": []
  }
 ],
 "metadata": {
  "kernelspec": {
   "display_name": "Python 3",
   "language": "python",
   "name": "python3"
  },
  "language_info": {
   "codemirror_mode": {
    "name": "ipython",
    "version": 3
   },
   "file_extension": ".py",
   "mimetype": "text/x-python",
   "name": "python",
   "nbconvert_exporter": "python",
   "pygments_lexer": "ipython3",
   "version": "3.8.5"
  }
 },
 "nbformat": 4,
 "nbformat_minor": 4
}

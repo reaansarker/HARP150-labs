{
 "cells": [
  {
   "cell_type": "code",
   "execution_count": 1,
   "metadata": {},
   "outputs": [],
   "source": [
    "grocery_list = [\"eggs\", \"milk\", \"avocados\"]"
   ]
  },
  {
   "cell_type": "code",
   "execution_count": 6,
   "metadata": {},
   "outputs": [
    {
     "name": "stdout",
     "output_type": "stream",
     "text": [
      "eggs\n",
      "milk\n",
      "avocados\n"
     ]
    }
   ],
   "source": [
    "for item in grocery_list:\n",
    "    print(item)"
   ]
  },
  {
   "cell_type": "code",
   "execution_count": 5,
   "metadata": {},
   "outputs": [
    {
     "name": "stdout",
     "output_type": "stream",
     "text": [
      "Hello Benny!\n",
      "Hello Jenny!\n",
      "Hello Abby!\n"
     ]
    }
   ],
   "source": [
    "names = [\"benny\",\"jenny\",\"abby\"]\n",
    "for name in names:\n",
    "    print(\"Hello \" +name.title()+\"!\")"
   ]
  },
  {
   "cell_type": "code",
   "execution_count": 7,
   "metadata": {},
   "outputs": [
    {
     "name": "stdout",
     "output_type": "stream",
     "text": [
      "red\n",
      "yellow\n",
      "blue\n"
     ]
    }
   ],
   "source": [
    "colors = [\"red\", \"yellow\", \"blue\"]\n",
    "print(colors[0])\n",
    "print(colors[1])\n",
    "print(colors[2])"
   ]
  },
  {
   "cell_type": "code",
   "execution_count": 3,
   "metadata": {},
   "outputs": [
    {
     "name": "stdout",
     "output_type": "stream",
     "text": [
      "john\n"
     ]
    }
   ],
   "source": [
    "name_list = [\"laura\", \"peggy\", \"tim\", \"john\", \"pete\", \"anna\"]\n",
    "print(name_list[3])"
   ]
  },
  {
   "cell_type": "code",
   "execution_count": 2,
   "metadata": {},
   "outputs": [
    {
     "name": "stdout",
     "output_type": "stream",
     "text": [
      "1\n"
     ]
    }
   ],
   "source": [
    "number_list = [\"1\", \"2\", \"3\", \"4\"]\n",
    "print(number_list[0])"
   ]
  },
  {
   "cell_type": "code",
   "execution_count": 7,
   "metadata": {},
   "outputs": [
    {
     "name": "stdout",
     "output_type": "stream",
     "text": [
      "5\n",
      "6\n",
      "a\n",
      "r\n"
     ]
    }
   ],
   "source": [
    "num_lett = [\"5\", \"6\", \"a\", \"r\"]\n",
    "for item in num_lett:\n",
    "    print(item)"
   ]
  },
  {
   "cell_type": "code",
   "execution_count": 8,
   "metadata": {},
   "outputs": [
    {
     "name": "stdout",
     "output_type": "stream",
     "text": [
      "sushi\n"
     ]
    }
   ],
   "source": [
    "food = [\"pasta\", \"sushi\", \"pizza\", \"sandwich\"]\n",
    "print(food[1])"
   ]
  },
  {
   "cell_type": "code",
   "execution_count": 10,
   "metadata": {},
   "outputs": [
    {
     "name": "stdout",
     "output_type": "stream",
     "text": [
      "4\n"
     ]
    }
   ],
   "source": [
    "list_length = len(food)\n",
    "print(list_length)"
   ]
  },
  {
   "cell_type": "code",
   "execution_count": 11,
   "metadata": {},
   "outputs": [
    {
     "name": "stdout",
     "output_type": "stream",
     "text": [
      "There are 5 students in the class\n"
     ]
    }
   ],
   "source": [
    "my_class = [\"Laura\", \"Jim\", \"Jan\", \"Alex\", \"Summer\"]\n",
    "num_students = len(my_class)\n",
    "print(\"There are\", num_students, \"students in the class\")"
   ]
  },
  {
   "cell_type": "code",
   "execution_count": 18,
   "metadata": {},
   "outputs": [
    {
     "name": "stdout",
     "output_type": "stream",
     "text": [
      "The student Tim has left the building.\n"
     ]
    }
   ],
   "source": [
    "my_class.append(\"Tim\")\n",
    "my_class.insert(1, \"Sade\")\n",
    "student_that_left = my_class.pop()\n",
    "print(\"The student\", student_that_left, \"has left the building.\")"
   ]
  },
  {
   "cell_type": "code",
   "execution_count": 20,
   "metadata": {},
   "outputs": [
    {
     "name": "stdout",
     "output_type": "stream",
     "text": [
      "5\n"
     ]
    }
   ],
   "source": [
    "beach_list = [\"sunscreen\", \"towels\", \"swimsuit\", \"food\", \"water\"]\n",
    "beach_length = len(beach_list)\n",
    "print(beach_length)"
   ]
  },
  {
   "cell_type": "code",
   "execution_count": 21,
   "metadata": {},
   "outputs": [
    {
     "name": "stdout",
     "output_type": "stream",
     "text": [
      "['breakfast', 'snack', 'lunch', 'dinner']\n"
     ]
    }
   ],
   "source": [
    "meals = [\"breakfast\", \"lunch\"]\n",
    "meals.append(\"dinner\")\n",
    "meals.insert(1, \"snack\")\n",
    "print(meals)"
   ]
  },
  {
   "cell_type": "code",
   "execution_count": 23,
   "metadata": {},
   "outputs": [
    {
     "data": {
      "text/plain": [
       "'new york'"
      ]
     },
     "execution_count": 23,
     "metadata": {},
     "output_type": "execute_result"
    }
   ],
   "source": [
    "countries = [\"japan\", \"italy\", \"new york\", \"spain\", \"binghamton\"]\n",
    "countries.pop(2)"
   ]
  },
  {
   "cell_type": "code",
   "execution_count": 24,
   "metadata": {},
   "outputs": [
    {
     "data": {
      "text/plain": [
       "'binghamton'"
      ]
     },
     "execution_count": 24,
     "metadata": {},
     "output_type": "execute_result"
    }
   ],
   "source": [
    "countries.pop()"
   ]
  },
  {
   "cell_type": "code",
   "execution_count": 29,
   "metadata": {},
   "outputs": [
    {
     "name": "stdout",
     "output_type": "stream",
     "text": [
      "purple\n",
      "red\n",
      "blue\n",
      "pink\n",
      "grey\n"
     ]
    }
   ],
   "source": [
    "color = [\"purple\", \"red\", \"blue\", \"pink\", \"grey\"]\n",
    "for item in color:\n",
    "    print(item)"
   ]
  },
  {
   "cell_type": "code",
   "execution_count": 30,
   "metadata": {},
   "outputs": [
    {
     "data": {
      "text/plain": [
       "5"
      ]
     },
     "execution_count": 30,
     "metadata": {},
     "output_type": "execute_result"
    }
   ],
   "source": [
    "len(color)"
   ]
  },
  {
   "cell_type": "code",
   "execution_count": 34,
   "metadata": {},
   "outputs": [
    {
     "name": "stdout",
     "output_type": "stream",
     "text": [
      "['purple', 'red', 'blue', 'pink', 'grey', 'yellow']\n"
     ]
    }
   ],
   "source": [
    "color = [\"purple\", \"red\", \"blue\", \"pink\", \"grey\"]\n",
    "color.append(\"yellow\")\n",
    "print(color)"
   ]
  },
  {
   "cell_type": "code",
   "execution_count": 35,
   "metadata": {},
   "outputs": [
    {
     "name": "stdout",
     "output_type": "stream",
     "text": [
      "['purple', 'red', 'blue', 'orange', 'pink', 'grey']\n"
     ]
    }
   ],
   "source": [
    "color = [\"purple\", \"red\", \"blue\", \"pink\", \"grey\"]\n",
    "color.insert(3, \"orange\")\n",
    "print(color)"
   ]
  },
  {
   "cell_type": "code",
   "execution_count": 37,
   "metadata": {},
   "outputs": [
    {
     "name": "stdout",
     "output_type": "stream",
     "text": [
      "['purple', 'red', 'pink', 'grey']\n"
     ]
    }
   ],
   "source": [
    "color = [\"purple\", \"red\", \"blue\", \"pink\", \"grey\"]\n",
    "color.pop(2)\n",
    "print(color)"
   ]
  },
  {
   "cell_type": "code",
   "execution_count": 39,
   "metadata": {},
   "outputs": [
    {
     "name": "stdout",
     "output_type": "stream",
     "text": [
      "The total of all batting averages is 2.4090000000000003\n"
     ]
    }
   ],
   "source": [
    "team_batting_avgs = [.328, .299, .208, .301, .275, .226, .253, .232, .287]\n",
    "sum_avgs = sum(team_batting_avgs)\n",
    "print(\"The total of all batting averages is\", sum_avgs)"
   ]
  },
  {
   "cell_type": "code",
   "execution_count": 40,
   "metadata": {},
   "outputs": [
    {
     "name": "stdout",
     "output_type": "stream",
     "text": [
      "The highest batting average is 0.328\n",
      "The lowest batting average is 0.208\n"
     ]
    }
   ],
   "source": [
    "print(\"The highest batting average is\", max(team_batting_avgs))\n",
    "print(\"The lowest batting average is\", min(team_batting_avgs))"
   ]
  },
  {
   "cell_type": "code",
   "execution_count": 45,
   "metadata": {},
   "outputs": [
    {
     "name": "stdout",
     "output_type": "stream",
     "text": [
      "30\n"
     ]
    }
   ],
   "source": [
    "numbers = [2, 4, 6, 8, 10]\n",
    "sum_num = sum(numbers)\n",
    "print(sum_num)"
   ]
  },
  {
   "cell_type": "code",
   "execution_count": 46,
   "metadata": {},
   "outputs": [
    {
     "name": "stdout",
     "output_type": "stream",
     "text": [
      "10\n",
      "2\n"
     ]
    }
   ],
   "source": [
    "print(max(numbers))\n",
    "print(min(numbers))"
   ]
  },
  {
   "cell_type": "code",
   "execution_count": 47,
   "metadata": {},
   "outputs": [
    {
     "name": "stdout",
     "output_type": "stream",
     "text": [
      "tues\n"
     ]
    }
   ],
   "source": [
    "days_in_week = [\"mon\", \"tues\", \"wed\", \"thurs\", \"fri\", \"sat\", \"sun\"]\n",
    "print(days_in_week[1])"
   ]
  },
  {
   "cell_type": "code",
   "execution_count": 49,
   "metadata": {},
   "outputs": [
    {
     "name": "stdout",
     "output_type": "stream",
     "text": [
      "mon\n",
      "tues\n",
      "wed\n",
      "thurs\n",
      "fri\n",
      "sat\n",
      "sun\n"
     ]
    }
   ],
   "source": [
    "for day in days_in_week:\n",
    "    print(day)"
   ]
  },
  {
   "cell_type": "code",
   "execution_count": 51,
   "metadata": {},
   "outputs": [
    {
     "name": "stdout",
     "output_type": "stream",
     "text": [
      "The first day of the week is mon\n"
     ]
    }
   ],
   "source": [
    "print(\"The first day of the week is \" + days_in_week[0])"
   ]
  },
  {
   "cell_type": "code",
   "execution_count": 53,
   "metadata": {},
   "outputs": [
    {
     "name": "stdout",
     "output_type": "stream",
     "text": [
      "\n",
      "The days in the week are\n",
      "-mon\n",
      "-tues\n",
      "-wed\n",
      "-thurs\n",
      "-fri\n",
      "-sat\n",
      "-sun\n"
     ]
    }
   ],
   "source": [
    "print(\"\\nThe days in the week are\")\n",
    "for day in days_in_week:\n",
    "    print(\"-\" + day)"
   ]
  },
  {
   "cell_type": "code",
   "execution_count": 54,
   "metadata": {},
   "outputs": [
    {
     "name": "stdout",
     "output_type": "stream",
     "text": [
      "['mon', 'tues', 'wed', 'thurs', 'fri', 'sat', 'sun', 'octday']\n"
     ]
    }
   ],
   "source": [
    "days_in_week = [\"mon\", \"tues\", \"wed\", \"thurs\", \"fri\", \"sat\", \"sun\"]\n",
    "days_in_week.append(\"octday\") #no octday\n",
    "print(days_in_week)"
   ]
  },
  {
   "cell_type": "code",
   "execution_count": 55,
   "metadata": {},
   "outputs": [
    {
     "name": "stdout",
     "output_type": "stream",
     "text": [
      "jan\n",
      "feb\n",
      "march\n"
     ]
    }
   ],
   "source": [
    "months = [\"jan\", \"feb\", \"march\"]\n",
    "for month in months:\n",
    "    print(month)"
   ]
  },
  {
   "cell_type": "code",
   "execution_count": 56,
   "metadata": {},
   "outputs": [
    {
     "name": "stdout",
     "output_type": "stream",
     "text": [
      "{'yellow', 'green', 'red'}\n"
     ]
    }
   ],
   "source": [
    "unique_colors_list = [\"red\", \"yellow\", \"red\", \"green\", \"red\", \"yellow\"]\n",
    "unique_colors_set = set(unique_colors_list)\n",
    "print(unique_colors_set)"
   ]
  },
  {
   "cell_type": "code",
   "execution_count": 57,
   "metadata": {},
   "outputs": [
    {
     "ename": "TypeError",
     "evalue": "'set' object is not subscriptable",
     "output_type": "error",
     "traceback": [
      "\u001b[0;31m---------------------------------------------------------------------------\u001b[0m",
      "\u001b[0;31mTypeError\u001b[0m                                 Traceback (most recent call last)",
      "\u001b[0;32m<ipython-input-57-e53a37451f28>\u001b[0m in \u001b[0;36m<module>\u001b[0;34m\u001b[0m\n\u001b[1;32m      1\u001b[0m \u001b[0mmy_set\u001b[0m \u001b[0;34m=\u001b[0m \u001b[0;34m{\u001b[0m\u001b[0;34m\"one\"\u001b[0m\u001b[0;34m,\u001b[0m \u001b[0;34m\"two\"\u001b[0m\u001b[0;34m,\u001b[0m \u001b[0;34m\"three\"\u001b[0m\u001b[0;34m}\u001b[0m\u001b[0;34m\u001b[0m\u001b[0;34m\u001b[0m\u001b[0m\n\u001b[0;32m----> 2\u001b[0;31m \u001b[0mprint\u001b[0m\u001b[0;34m(\u001b[0m\u001b[0mmy_set\u001b[0m\u001b[0;34m[\u001b[0m\u001b[0;36m0\u001b[0m\u001b[0;34m]\u001b[0m\u001b[0;34m)\u001b[0m\u001b[0;34m\u001b[0m\u001b[0;34m\u001b[0m\u001b[0m\n\u001b[0m",
      "\u001b[0;31mTypeError\u001b[0m: 'set' object is not subscriptable"
     ]
    }
   ],
   "source": [
    "my_set = {\"one\", \"two\", \"three\"}\n",
    "print(my_set[0])"
   ]
  },
  {
   "cell_type": "code",
   "execution_count": 58,
   "metadata": {},
   "outputs": [
    {
     "name": "stdout",
     "output_type": "stream",
     "text": [
      "['shirt', 'jeans', 'hoodie', 'sweatpants', 'shirt', 'hoodie']\n",
      "{'jeans', 'sweatpants', 'hoodie', 'shirt'}\n",
      "shirt\n",
      "jeans\n",
      "hoodie\n",
      "sweatpants\n",
      "shirt\n",
      "hoodie\n",
      "Now, the set:\n",
      "jeans\n",
      "sweatpants\n",
      "hoodie\n",
      "shirt\n"
     ]
    }
   ],
   "source": [
    "clothing_list = [\"shirt\", \"jeans\", \"hoodie\", \"sweatpants\", \"shirt\", \"hoodie\"]\n",
    "clothing_set = set(clothing_list)\n",
    "\n",
    "print(clothing_list)\n",
    "print(clothing_set)\n",
    "\n",
    "for item in clothing_list:\n",
    "    print(item)\n",
    "    \n",
    "print(\"Now, the set:\")\n",
    "for item in clothing_set:\n",
    "    print(item)"
   ]
  },
  {
   "cell_type": "code",
   "execution_count": 59,
   "metadata": {},
   "outputs": [
    {
     "name": "stdout",
     "output_type": "stream",
     "text": [
      "{'hoodie', 'sweatpants', 'shirt', 'jeans', 'shorts'}\n"
     ]
    }
   ],
   "source": [
    "clothing_set.add(\"shorts\")\n",
    "clothing_set.add(\"jeans\")\n",
    "\n",
    "print(clothing_set)"
   ]
  },
  {
   "cell_type": "code",
   "execution_count": 60,
   "metadata": {},
   "outputs": [
    {
     "name": "stdout",
     "output_type": "stream",
     "text": [
      "{'hoodie', 'sweatpants', 'shirt'}\n"
     ]
    }
   ],
   "source": [
    "clothing_set.remove(\"shorts\")\n",
    "clothing_set.remove(\"jeans\")\n",
    "\n",
    "print(clothing_set)"
   ]
  },
  {
   "cell_type": "code",
   "execution_count": 62,
   "metadata": {},
   "outputs": [
    {
     "name": "stdout",
     "output_type": "stream",
     "text": [
      "{'hoodie', 'sweatpants', 'shirt'}\n"
     ]
    }
   ],
   "source": [
    "clothing_set.discard(1)\n",
    "print(clothing_set)"
   ]
  },
  {
   "cell_type": "code",
   "execution_count": 63,
   "metadata": {},
   "outputs": [
    {
     "ename": "SyntaxError",
     "evalue": "invalid character in identifier (<ipython-input-63-ed3e08827ab2>, line 1)",
     "output_type": "error",
     "traceback": [
      "\u001b[0;36m  File \u001b[0;32m\"<ipython-input-63-ed3e08827ab2>\"\u001b[0;36m, line \u001b[0;32m1\u001b[0m\n\u001b[0;31m    new_set={“create”, “your”, “own”}\u001b[0m\n\u001b[0m                    ^\u001b[0m\n\u001b[0;31mSyntaxError\u001b[0m\u001b[0;31m:\u001b[0m invalid character in identifier\n"
     ]
    }
   ],
   "source": [
    "new_set={“create”, “your”, “own”}\n",
    "print(new_set)"
   ]
  },
  {
   "cell_type": "code",
   "execution_count": 64,
   "metadata": {},
   "outputs": [
    {
     "ename": "NameError",
     "evalue": "name 'new_set' is not defined",
     "output_type": "error",
     "traceback": [
      "\u001b[0;31m---------------------------------------------------------------------------\u001b[0m",
      "\u001b[0;31mNameError\u001b[0m                                 Traceback (most recent call last)",
      "\u001b[0;32m<ipython-input-64-9c17b2e85565>\u001b[0m in \u001b[0;36m<module>\u001b[0;34m\u001b[0m\n\u001b[0;32m----> 1\u001b[0;31m \u001b[0mclear_set\u001b[0m\u001b[0;34m=\u001b[0m\u001b[0mnew_set\u001b[0m\u001b[0;34m.\u001b[0m\u001b[0mclear\u001b[0m\u001b[0;34m(\u001b[0m\u001b[0;34m)\u001b[0m\u001b[0;34m\u001b[0m\u001b[0;34m\u001b[0m\u001b[0m\n\u001b[0m\u001b[1;32m      2\u001b[0m \u001b[0mprint\u001b[0m\u001b[0;34m(\u001b[0m\u001b[0mclear_set\u001b[0m\u001b[0;34m)\u001b[0m\u001b[0;34m\u001b[0m\u001b[0;34m\u001b[0m\u001b[0m\n",
      "\u001b[0;31mNameError\u001b[0m: name 'new_set' is not defined"
     ]
    }
   ],
   "source": [
    "clear_set=new_set.clear()\n",
    "print(clear_set)"
   ]
  },
  {
   "cell_type": "code",
   "execution_count": 65,
   "metadata": {},
   "outputs": [
    {
     "name": "stdout",
     "output_type": "stream",
     "text": [
      "['stapler', 'clips', 'pencil', 'paper', 'stapler', 'pen']\n",
      "{'stapler', 'pencil', 'clips', 'pen', 'paper'}\n",
      "stapler\n",
      "clips\n",
      "pencil\n",
      "paper\n",
      "stapler\n",
      "pen\n",
      "Now, the set:\n",
      "stapler\n",
      "pencil\n",
      "clips\n",
      "pen\n",
      "paper\n"
     ]
    }
   ],
   "source": [
    "desk_list = [\"stapler\", \"clips\", \"pencil\", \"paper\", \"stapler\", \"pen\"]\n",
    "desk_set = set(desk_list)\n",
    "\n",
    "print(desk_list)\n",
    "print(desk_set)\n",
    "\n",
    "for item in desk_list:\n",
    "    print(item)\n",
    "    \n",
    "print(\"Now, the set:\")\n",
    "for item in desk_set:\n",
    "    print(item)"
   ]
  },
  {
   "cell_type": "code",
   "execution_count": 66,
   "metadata": {},
   "outputs": [
    {
     "name": "stdout",
     "output_type": "stream",
     "text": [
      "{'stapler', 'pencil', 'calculator', 'clips', 'pen', 'paper'}\n"
     ]
    }
   ],
   "source": [
    "desk_set.add(\"calculator\")\n",
    "print(desk_set)"
   ]
  },
  {
   "cell_type": "code",
   "execution_count": 67,
   "metadata": {},
   "outputs": [
    {
     "name": "stdout",
     "output_type": "stream",
     "text": [
      "{'stapler', 'calculator', 'clips', 'pen', 'paper'}\n"
     ]
    }
   ],
   "source": [
    "desk_set.remove(\"pencil\")\n",
    "print(desk_set)"
   ]
  },
  {
   "cell_type": "code",
   "execution_count": 68,
   "metadata": {},
   "outputs": [
    {
     "name": "stdout",
     "output_type": "stream",
     "text": [
      "{'stapler', 'calculator', 'clips', 'pen', 'paper'}\n"
     ]
    }
   ],
   "source": [
    "desk_set.discard(1)\n",
    "print(desk_set)"
   ]
  },
  {
   "cell_type": "code",
   "execution_count": 73,
   "metadata": {},
   "outputs": [
    {
     "name": "stdout",
     "output_type": "stream",
     "text": [
      "my name is bryan\n",
      "my name is abby\n",
      "my name is coleman\n"
     ]
    }
   ],
   "source": [
    "#post lab ex\n",
    "newnames = [\"bryan\",\"abby\",\"coleman\"]\n",
    "for name in newnames:\n",
    "    print(\"my name is \" +name)"
   ]
  },
  {
   "cell_type": "code",
   "execution_count": 74,
   "metadata": {},
   "outputs": [
    {
     "name": "stdout",
     "output_type": "stream",
     "text": [
      "hello\n",
      "goodbye\n",
      "hola\n",
      "adios\n"
     ]
    }
   ],
   "source": [
    "greetings = ['hello', 'goodbye', 'hola', 'adios']\n",
    "for item in greetings:\n",
    "    print(item)"
   ]
  },
  {
   "cell_type": "code",
   "execution_count": 75,
   "metadata": {},
   "outputs": [
    {
     "name": "stdout",
     "output_type": "stream",
     "text": [
      "('hello', 'goodbye', 'hello')\n"
     ]
    }
   ],
   "source": [
    "li = ['hello', 'goodbye', 'hello']\n",
    "def convert(li): \n",
    "    return tuple(li)   \n",
    "print(convert(li)) "
   ]
  },
  {
   "cell_type": "code",
   "execution_count": 77,
   "metadata": {},
   "outputs": [
    {
     "name": "stdout",
     "output_type": "stream",
     "text": [
      "['spanish', 'french', 'italian', 'german', 'korean', 'hindi']\n",
      "{'italian', 'hindi', 'german', 'spanish', 'french', 'korean'}\n",
      "spanish\n",
      "french\n",
      "italian\n",
      "german\n",
      "korean\n",
      "hindi\n",
      "Now, the set:\n",
      "spanish\n",
      "french\n",
      "italian\n",
      "german\n",
      "korean\n",
      "hindi\n"
     ]
    }
   ],
   "source": [
    "languages = [\"spanish\", \"french\", \"italian\", \"german\", \"korean\", \"hindi\"]\n",
    "lang_set = set(languages)\n",
    "\n",
    "print(languages)\n",
    "print(lang_set)\n",
    "\n",
    "for item in languages:\n",
    "    print(item)\n",
    "    \n",
    "print(\"Now, the set:\")\n",
    "for item in languages:\n",
    "    print(item)"
   ]
  },
  {
   "cell_type": "code",
   "execution_count": null,
   "metadata": {},
   "outputs": [],
   "source": []
  }
 ],
 "metadata": {
  "kernelspec": {
   "display_name": "Python 3",
   "language": "python",
   "name": "python3"
  },
  "language_info": {
   "codemirror_mode": {
    "name": "ipython",
    "version": 3
   },
   "file_extension": ".py",
   "mimetype": "text/x-python",
   "name": "python",
   "nbconvert_exporter": "python",
   "pygments_lexer": "ipython3",
   "version": "3.8.5"
  }
 },
 "nbformat": 4,
 "nbformat_minor": 4
}

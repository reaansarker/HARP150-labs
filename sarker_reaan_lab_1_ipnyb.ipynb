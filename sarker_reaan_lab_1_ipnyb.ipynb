{
 "cells": [
  {
   "cell_type": "code",
   "execution_count": 1,
   "metadata": {},
   "outputs": [
    {
     "name": "stdout",
     "output_type": "stream",
     "text": [
      "Hello world!\n"
     ]
    }
   ],
   "source": [
    "print(\"Hello world!\")"
   ]
  },
  {
   "cell_type": "code",
   "execution_count": null,
   "metadata": {},
   "outputs": [],
   "source": [
    "#cd Desktop\n",
    "#cd test.py\n",
    "#python3 helloworld.py\n",
    "#python3 test.py\n",
    "#mkdir One Two\n",
    "#cd One\n",
    "#print(This is my first problem!)\n",
    "#cd ..\n",
    "#cd Two\n",
    "#print(This is my second problem!)\n",
    "#mv One\n",
    "#mkdir julia nicole kate\n",
    "#mv reaanHouse.py"
   ]
  }
 ],
 "metadata": {
  "kernelspec": {
   "display_name": "Python 3",
   "language": "python",
   "name": "python3"
  },
  "language_info": {
   "codemirror_mode": {
    "name": "ipython",
    "version": 3
   },
   "file_extension": ".py",
   "mimetype": "text/x-python",
   "name": "python",
   "nbconvert_exporter": "python",
   "pygments_lexer": "ipython3",
   "version": "3.8.5"
  }
 },
 "nbformat": 4,
 "nbformat_minor": 4
}

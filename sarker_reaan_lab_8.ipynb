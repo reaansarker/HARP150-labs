{
 "cells": [
  {
   "cell_type": "code",
   "execution_count": 5,
   "metadata": {},
   "outputs": [
    {
     "name": "stdout",
     "output_type": "stream",
     "text": [
      "this dogs name is Cinnamon\n",
      "woof i am called Cinnamon ; i am 3 years old!\n",
      "this dogs name is Teddy\n",
      "woof i am called Teddy ; i am 5 years old!\n",
      "this dogs name is Carrot\n",
      "woof i am called Carrot ; i am 7 years old!\n"
     ]
    }
   ],
   "source": [
    "class Dog: \n",
    "    def __init__ (self, name=\"\", age=0):\n",
    "        self.name= name\n",
    "        self.age= age\n",
    "    def bark_hello(self):\n",
    "        print(\"woof i am called\", self.name, \"; i am\", self.age, \"years old!\")\n",
    "        \n",
    "cinnamon = Dog(\"Cinnamon\", 3)\n",
    "teddy = Dog(\"Teddy\", 5)\n",
    "carrot = Dog(\"Carrot\", 7)\n",
    "\n",
    "print(\"this dogs name is\", cinnamon.name)\n",
    "cinnamon.bark_hello()\n",
    "print(\"this dogs name is\", teddy.name)\n",
    "teddy.bark_hello()\n",
    "print(\"this dogs name is\", carrot.name)\n",
    "carrot.bark_hello()"
   ]
  },
  {
   "cell_type": "code",
   "execution_count": 6,
   "metadata": {},
   "outputs": [
    {
     "name": "stdout",
     "output_type": "stream",
     "text": [
      "Target is a store where I can get everything and it is in Johnson City.\n"
     ]
    }
   ],
   "source": [
    "class store:\n",
    "    def __init__(self, name, kind, location):\n",
    "        self.name = name\n",
    "        self.kind = kind\n",
    "        self.location = location\n",
    "        \n",
    "    def information(self):\n",
    "        print(\"%s is a store where I can get %s and it is in %s.\"\n",
    "              %(self.name, self.kind, self.location))\n",
    "pl = store(\"Target\",\"everything\", \"Johnson City\")\n",
    "pl.information()"
   ]
  },
  {
   "cell_type": "code",
   "execution_count": 2,
   "metadata": {},
   "outputs": [
    {
     "name": "stdout",
     "output_type": "stream",
     "text": [
      "This is shannon, they are 30 and is female\n",
      "hi I am shannon\n",
      "This is kai, they are 24 and is male\n",
      "hi I am kai\n"
     ]
    }
   ],
   "source": [
    "class person:\n",
    "    def __init__(self, name, age, gender):\n",
    "        self.name = name\n",
    "        self.age = age\n",
    "        self.gender = gender\n",
    "    def intro(self):\n",
    "        print(\"This is %s, they are %s and is %s\"\n",
    "              %(self.name, self.age, self.gender))\n",
    "    def hello(self):\n",
    "        print(\"hi I am %s\" %self.name)\n",
    "\n",
    "p1 = person(\"shannon\", \"30\", \"female\")\n",
    "p1.intro()\n",
    "p1.hello()\n",
    "\n",
    "p2 = person(\"kai\", \"24\", \"male\")\n",
    "p2.intro()\n",
    "p2.hello()"
   ]
  },
  {
   "cell_type": "code",
   "execution_count": 4,
   "metadata": {},
   "outputs": [
    {
     "name": "stdout",
     "output_type": "stream",
     "text": [
      "My name is Sarah and I am an influencer on Instagram\n"
     ]
    }
   ],
   "source": [
    "class userprofile:\n",
    "    def __init__(self, name, social):\n",
    "        self.name = name\n",
    "        self.social = social\n",
    "   \n",
    "    def info(self):\n",
    "        print(\"My name is %s and I am an influencer on %s\"\n",
    "              %(self.name, self.social))\n",
    "    \n",
    "pl = userprofile(\"Sarah\",\"Instagram\")\n",
    "pl.info()"
   ]
  },
  {
   "cell_type": "code",
   "execution_count": 9,
   "metadata": {},
   "outputs": [
    {
     "name": "stdout",
     "output_type": "stream",
     "text": [
      "This cat is black and is a girl\n",
      "This cat is grey and is a girl\n"
     ]
    }
   ],
   "source": [
    "class cat: \n",
    "    def __init__ (self, color=\"\", gender=\"\"):\n",
    "        self.color= color\n",
    "        self.gender= gender\n",
    "    def info(self):\n",
    "        print(\"This cat is\", self.color, \"and is a\", self.gender)\n",
    "        \n",
    "luna = cat(\"black\", \"girl\")\n",
    "angel = cat(\"grey\", \"girl\")\n",
    "\n",
    "luna.info()\n",
    "angel.info()"
   ]
  },
  {
   "cell_type": "code",
   "execution_count": 10,
   "metadata": {},
   "outputs": [],
   "source": [
    "#post lab ex "
   ]
  },
  {
   "cell_type": "code",
   "execution_count": 33,
   "metadata": {},
   "outputs": [
    {
     "name": "stdout",
     "output_type": "stream",
     "text": [
      "You have a pair of jeans! It's a pair of pants.\n",
      "You have a blouse! It's a top.\n"
     ]
    }
   ],
   "source": [
    "#1\n",
    "class clothes:\n",
    "    def __init__ (self, tOrB, clothingtype):\n",
    "        self.tOrB = tOrB\n",
    "        self.clothingtype = clothingtype\n",
    "    def have_outfit(self):\n",
    "        print(\"You have a \" + self.tOrB + \"! It's a \" + self.clothingtype + \".\")\n",
    "        \n",
    "jeans = clothes(\"pair of jeans\", \"pair of pants\")\n",
    "blouse = clothes(\"blouse\", \"top\")\n",
    "\n",
    "jeans.have_outfit()\n",
    "blouse.have_outfit()"
   ]
  },
  {
   "cell_type": "code",
   "execution_count": 25,
   "metadata": {},
   "outputs": [
    {
     "name": "stdout",
     "output_type": "stream",
     "text": [
      "Steve has studied at Binghamton University and has had 3 previous jobs and 2 internships.\n"
     ]
    }
   ],
   "source": [
    "#2\n",
    "class linkedin:\n",
    "    def __init__ (self, education, jobs, internships):\n",
    "        self.education = education\n",
    "        self.jobs = jobs\n",
    "        self.internships = internships\n",
    "    \n",
    "    def topic(self):\n",
    "        print(\"Steve has studied at %s and has had %s previous jobs and %s internships.\"\n",
    "              %(self.education, self.jobs, self.internships))     \n",
    "p4 = linkedin(\"Binghamton University\", 3, 2)\n",
    "p4.topic()"
   ]
  },
  {
   "cell_type": "code",
   "execution_count": 36,
   "metadata": {},
   "outputs": [
    {
     "name": "stdout",
     "output_type": "stream",
     "text": [
      "I completed 7 assignments so far\n",
      "I completed 2 quizzes so far\n",
      "I completed 8 labs so far\n"
     ]
    }
   ],
   "source": [
    "#3\n",
    "class harp150:\n",
    "    def __init__ (self, homework, quizzes, labs):\n",
    "        self.homework = homework\n",
    "        self.quizzes = quizzes\n",
    "        self.labs = labs\n",
    "    def dohw(self):\n",
    "        print(\"I completed %s assignments so far\"\n",
    "              %(self.homework))\n",
    "    def takequizzes(self):\n",
    "        print(\"I completed %s quizzes so far\"\n",
    "              %(self.quizzes))\n",
    "    def dolabs(self):\n",
    "        print(\"I completed %s labs so far\"\n",
    "              %(self.labs))\n",
    "p5 = harp150(7, 2, 8)\n",
    "p5.dohw()\n",
    "p5.takequizzes()\n",
    "p5.dolabs()"
   ]
  },
  {
   "cell_type": "code",
   "execution_count": null,
   "metadata": {},
   "outputs": [],
   "source": []
  }
 ],
 "metadata": {
  "kernelspec": {
   "display_name": "Python 3",
   "language": "python",
   "name": "python3"
  },
  "language_info": {
   "codemirror_mode": {
    "name": "ipython",
    "version": 3
   },
   "file_extension": ".py",
   "mimetype": "text/x-python",
   "name": "python",
   "nbconvert_exporter": "python",
   "pygments_lexer": "ipython3",
   "version": "3.8.5"
  }
 },
 "nbformat": 4,
 "nbformat_minor": 4
}

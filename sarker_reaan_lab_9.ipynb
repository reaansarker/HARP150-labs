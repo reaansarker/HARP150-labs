{
 "cells": [
  {
   "cell_type": "code",
   "execution_count": 32,
   "metadata": {},
   "outputs": [
    {
     "name": "stdout",
     "output_type": "stream",
     "text": [
      "There are many types of birds.\n",
      "Most of the birds can fly but some cannnot.\n",
      "There are many types of birds.\n",
      "sparrows can fly.\n",
      "There are many types of birds.\n",
      "Ostriches cannot fly.\n"
     ]
    }
   ],
   "source": [
    "class Bird:\n",
    "    def intro(self):\n",
    "        print(\"There are many types of birds.\")\n",
    "    \n",
    "    def flight(self):\n",
    "        print(\"Most of the birds can fly but some cannnot.\")\n",
    "        \n",
    "class sparrow(Bird):\n",
    "    def flight(self):\n",
    "        print(\"sparrows can fly.\")\n",
    "        \n",
    "class ostrich(Bird):\n",
    "    def flight(self):\n",
    "        print(\"Ostriches cannot fly.\")\n",
    "\n",
    "obj_bird = Bird()\n",
    "obj_spr = sparrow()\n",
    "obj_ost = ostrich()\n",
    "\n",
    "obj_bird.intro()\n",
    "obj_bird.flight()\n",
    "\n",
    "obj_spr.intro()\n",
    "obj_spr.flight()\n",
    "\n",
    "obj_ost.intro()\n",
    "obj_ost.flight()"
   ]
  },
  {
   "cell_type": "code",
   "execution_count": 27,
   "metadata": {},
   "outputs": [
    {
     "name": "stdout",
     "output_type": "stream",
     "text": [
      "False\n",
      "There are 2 cats!\n",
      "True\n",
      "1\n"
     ]
    }
   ],
   "source": [
    "class Animal:\n",
    "    def __init__(self, typ, age, number=0):\n",
    "        self.type = typ\n",
    "        self.age = age\n",
    "        self.number = number\n",
    " \n",
    "    def get_age(self):\n",
    "        return self.age\n",
    "    def get_number(self):\n",
    "        return self.number\n",
    "    \n",
    "class dog(Animal):\n",
    "    def __init__(self, typ, age, number, barks, howls, treats):\n",
    "        super().__init__(typ, age, number)\n",
    "        self.barks = barks\n",
    "        self.howls = howls\n",
    "        self.treats = treats\n",
    "        \n",
    "    def get_barks(self):\n",
    "        return self.barks\n",
    "    def get_howls(self):\n",
    "        return self.howls\n",
    "\n",
    "class cat(Animal):\n",
    "    def __init__(self, typ, age, number, snarls, whiskers, treats):\n",
    "        super().__init__(typ, age, number)\n",
    "        self.snarls = snarls\n",
    "        self.whiskers = whiskers\n",
    "        self.treats = treats\n",
    "        \n",
    "    def get_snarls(self):\n",
    "        return self.snarls\n",
    "    def get_number(self):\n",
    "        return \"There are \" + str(self.number) + \" cats!\"\n",
    "\n",
    "def main():\n",
    "    princess = cat(\"cat\", 10, 2, False, 10, 5)\n",
    "    fido = dog(\"dog\", 10, 2, True, True, 20)\n",
    "    lizard = Animal(\"lizard\", 15, 1)\n",
    "    \n",
    "    print(princess.get_snarls())\n",
    "    print(princess.get_number())\n",
    "    print(fido.get_barks())\n",
    "    print(lizard.get_number())\n",
    "main()"
   ]
  },
  {
   "cell_type": "code",
   "execution_count": 28,
   "metadata": {},
   "outputs": [],
   "source": [
    "#post lab ex"
   ]
  },
  {
   "cell_type": "code",
   "execution_count": 29,
   "metadata": {},
   "outputs": [],
   "source": [
    "#1\n",
    "#object"
   ]
  },
  {
   "cell_type": "code",
   "execution_count": 33,
   "metadata": {},
   "outputs": [],
   "source": [
    "#2\n",
    "class vehicle:\n",
    "    def __init__(self, speed, mileage):\n",
    "        self.speed = speed\n",
    "        self.mileage = mileage\n",
    "    \n",
    "    def get_speed(self):\n",
    "        return self.speed\n",
    "    def get_mileage(self):\n",
    "        return self.mileage"
   ]
  },
  {
   "cell_type": "code",
   "execution_count": 31,
   "metadata": {},
   "outputs": [],
   "source": [
    "#3\n",
    "#Encapsulation holds objects inside a boundary or class."
   ]
  },
  {
   "cell_type": "code",
   "execution_count": 39,
   "metadata": {},
   "outputs": [
    {
     "name": "stdout",
     "output_type": "stream",
     "text": [
      "There are different shapes.\n",
      "Different shapes have different numbers of sides.\n",
      "Shapes can be different colors sometimes.\n",
      "This shape is a circle.\n",
      "It has 1 side.\n",
      "It is blue.\n"
     ]
    }
   ],
   "source": [
    "#4\n",
    "class shape:\n",
    "    def type_shape(self):\n",
    "        print(\"There are different shapes.\")\n",
    "        \n",
    "    def num_sides(self):\n",
    "        print(\"Different shapes have different numbers of sides.\")\n",
    "        \n",
    "    def color(self):\n",
    "        print(\"Shapes can be different colors sometimes.\")\n",
    "\n",
    "class circle(shape):\n",
    "    def type_shape(self):\n",
    "        print(\"This shape is a circle.\")\n",
    "    def num_sides(self):\n",
    "        print(\"It has 1 side.\")\n",
    "    def color(self):\n",
    "        print(\"It is blue.\")\n",
    "\n",
    "obj_shape = shape()\n",
    "obj_cir = circle()\n",
    "\n",
    "obj_shape.type_shape()\n",
    "obj_shape.num_sides()\n",
    "obj_shape.color()\n",
    "obj_cir.type_shape()\n",
    "obj_cir.num_sides()\n",
    "obj_cir.color()"
   ]
  },
  {
   "cell_type": "code",
   "execution_count": null,
   "metadata": {},
   "outputs": [],
   "source": [
    "#5\n",
    "#Polymorphism is when objects can have mutiple forms when given different contexts"
   ]
  }
 ],
 "metadata": {
  "kernelspec": {
   "display_name": "Python 3",
   "language": "python",
   "name": "python3"
  },
  "language_info": {
   "codemirror_mode": {
    "name": "ipython",
    "version": 3
   },
   "file_extension": ".py",
   "mimetype": "text/x-python",
   "name": "python",
   "nbconvert_exporter": "python",
   "pygments_lexer": "ipython3",
   "version": "3.8.5"
  }
 },
 "nbformat": 4,
 "nbformat_minor": 4
}
